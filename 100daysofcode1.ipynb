{
 "cells": [
  {
   "cell_type": "code",
   "execution_count": 11,
   "id": "0693c8ba",
   "metadata": {},
   "outputs": [],
   "source": [
    "##we import libraries\n",
    "import pandas as pd\n",
    "from sklearn.tree import DecisionTreeClassifier\n",
    "import joblib\n",
    "from sklearn import tree\n",
    "\n",
    "#imported dataframe called music_data in this case\n",
    "music_data = pd.read_csv(r'music.csv')\n",
    "\n",
    "# #Input set (column without)\n",
    "# x = music_data.drop(columns=['genre'])\n",
    "\n",
    "# #Output set (columns inside)\n",
    "# y = music_data['genre']\n",
    "\n",
    "# #create model\n",
    "# model = DecisionTreeClassifier()\n",
    "# model.fit(x,y)\n",
    "\n",
    "#run model\n",
    "model = joblib.load('music-recommender.joblib' )\n",
    "\n",
    "#predictions \n",
    "predictions = model.predict([[21,1]])\n",
    "\n",
    "#Visualizing a Decision Tree\n",
    "tree.export_graphviz(model,out_file = 'music-recommender.dot', \n",
    "                    feature_names = ['age', 'gender'],\n",
    "                    label='all' ,\n",
    "                    filled=True)\n"
   ]
  },
  {
   "cell_type": "code",
   "execution_count": null,
   "id": "73e48aa0",
   "metadata": {},
   "outputs": [],
   "source": []
  }
 ],
 "metadata": {
  "kernelspec": {
   "display_name": "Python 3 (ipykernel)",
   "language": "python",
   "name": "python3"
  },
  "language_info": {
   "codemirror_mode": {
    "name": "ipython",
    "version": 3
   },
   "file_extension": ".py",
   "mimetype": "text/x-python",
   "name": "python",
   "nbconvert_exporter": "python",
   "pygments_lexer": "ipython3",
   "version": "3.9.7"
  }
 },
 "nbformat": 4,
 "nbformat_minor": 5
}
